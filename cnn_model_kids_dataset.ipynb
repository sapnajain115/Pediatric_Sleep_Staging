{
 "cells": [
  {
   "cell_type": "code",
   "execution_count": 1,
   "metadata": {},
   "outputs": [],
   "source": [
    "import sleep_study as ss\n",
    "import matplotlib as mpl\n",
    "import os\n",
    "import matplotlib.pyplot as plt\n",
    "import matplotlib.patches as mpatches\n",
    "import numpy as np\n",
    "import pandas as pd\n",
    "from glob import glob\n",
    "import seaborn as sns\n",
    "from sklearn.model_selection import train_test_split"
   ]
  },
  {
   "cell_type": "code",
   "execution_count": 2,
   "metadata": {},
   "outputs": [
    {
     "name": "stdout",
     "output_type": "stream",
     "text": [
      "age information stored in /Users/FernandoQin/Desktop/CMU/CMU_sleep_study/examples/age_file.csv\n"
     ]
    }
   ],
   "source": [
    "ss.init()"
   ]
  },
  {
   "cell_type": "code",
   "execution_count": 3,
   "metadata": {},
   "outputs": [
    {
     "name": "stdout",
     "output_type": "stream",
     "text": [
      "/Users/FernandoQin/Desktop/CMU/CMU_sleep_study/examples\r\n"
     ]
    }
   ],
   "source": [
    "!pwd"
   ]
  },
  {
   "cell_type": "markdown",
   "metadata": {},
   "source": [
    "## first kid edf file re-sampling and reshaping"
   ]
  },
  {
   "cell_type": "code",
   "execution_count": 4,
   "metadata": {},
   "outputs": [
    {
     "name": "stdout",
     "output_type": "stream",
     "text": [
      "(854, 1, 3000)\n",
      "(854,)\n"
     ]
    }
   ],
   "source": [
    "data, labels = ss.data.get_sleep_eeg_and_stages('1_4789')\n",
    "print(data.shape)\n",
    "print(labels.shape)\n",
    "#data is (num events) by (num channels) by (30s x ss.info.REFERENCE_FREQ)"
   ]
  },
  {
   "cell_type": "code",
   "execution_count": 5,
   "metadata": {},
   "outputs": [],
   "source": [
    "data = data.reshape(854, 3000, 1)"
   ]
  },
  {
   "cell_type": "code",
   "execution_count": 6,
   "metadata": {},
   "outputs": [
    {
     "data": {
      "text/plain": [
       "(854, 3000, 1)"
      ]
     },
     "execution_count": 6,
     "metadata": {},
     "output_type": "execute_result"
    }
   ],
   "source": [
    "data.shape"
   ]
  },
  {
   "cell_type": "code",
   "execution_count": 7,
   "metadata": {},
   "outputs": [],
   "source": [
    "#swap the axes of the data to match the cnn model data \n",
    "#for i in data:\n",
    "    #print(i)"
   ]
  },
  {
   "cell_type": "code",
   "execution_count": 8,
   "metadata": {},
   "outputs": [
    {
     "name": "stdout",
     "output_type": "stream",
     "text": [
      "<class 'numpy.ndarray'>\n",
      "<class 'numpy.ndarray'>\n"
     ]
    }
   ],
   "source": [
    "print(type(data))\n",
    "print(type(labels))"
   ]
  },
  {
   "cell_type": "code",
   "execution_count": 9,
   "metadata": {},
   "outputs": [
    {
     "name": "stdout",
     "output_type": "stream",
     "text": [
      "(854, 3000, 1)\n",
      "(854,)\n"
     ]
    }
   ],
   "source": [
    "print(data.shape)\n",
    "print(labels.shape)"
   ]
  },
  {
   "cell_type": "code",
   "execution_count": 10,
   "metadata": {},
   "outputs": [
    {
     "name": "stdout",
     "output_type": "stream",
     "text": [
      "/Users/FernandoQin/Desktop/CMU/CMU_sleep_study/examples\r\n"
     ]
    }
   ],
   "source": [
    "!pwd"
   ]
  },
  {
   "cell_type": "code",
   "execution_count": 11,
   "metadata": {},
   "outputs": [],
   "source": [
    "np.savez('1_4789.npz', x=data,  y=labels)"
   ]
  },
  {
   "cell_type": "code",
   "execution_count": 12,
   "metadata": {},
   "outputs": [
    {
     "name": "stdout",
     "output_type": "stream",
     "text": [
      "(854, 3000, 1)\n",
      "(854,)\n"
     ]
    }
   ],
   "source": [
    "arrs = np.load('1_4789.npz')\n",
    "print(arrs['x'].shape)\n",
    "print(arrs['y'].shape)"
   ]
  },
  {
   "cell_type": "markdown",
   "metadata": {},
   "source": [
    "## second kid edf file re-sampling and reshaping\n"
   ]
  },
  {
   "cell_type": "code",
   "execution_count": 13,
   "metadata": {},
   "outputs": [],
   "source": [
    "data, labels = ss.data.get_sleep_eeg_and_stages('22_23233')"
   ]
  },
  {
   "cell_type": "code",
   "execution_count": 14,
   "metadata": {},
   "outputs": [
    {
     "name": "stdout",
     "output_type": "stream",
     "text": [
      "(869, 1, 3000)\n",
      "(869,)\n"
     ]
    }
   ],
   "source": [
    "print(data.shape)\n",
    "print(labels.shape)\n",
    "#data is (num events) by (num channels) by (30s x ss.info.REFERENCE_FREQ)"
   ]
  },
  {
   "cell_type": "code",
   "execution_count": 15,
   "metadata": {},
   "outputs": [],
   "source": [
    "data = data.reshape(869, 3000, 1)"
   ]
  },
  {
   "cell_type": "code",
   "execution_count": 16,
   "metadata": {},
   "outputs": [
    {
     "name": "stdout",
     "output_type": "stream",
     "text": [
      "(869, 3000, 1)\n",
      "(869,)\n"
     ]
    }
   ],
   "source": [
    "print(data.shape)\n",
    "print(labels.shape)"
   ]
  },
  {
   "cell_type": "code",
   "execution_count": 17,
   "metadata": {},
   "outputs": [],
   "source": [
    "np.savez('22_23233.npz', x=data,  y=labels)"
   ]
  },
  {
   "cell_type": "markdown",
   "metadata": {},
   "source": [
    "## third kid edf file re-sampling and reshaping\n"
   ]
  },
  {
   "cell_type": "code",
   "execution_count": 18,
   "metadata": {},
   "outputs": [],
   "source": [
    "data, labels = ss.data.get_sleep_eeg_and_stages('25_10579')"
   ]
  },
  {
   "cell_type": "code",
   "execution_count": 47,
   "metadata": {},
   "outputs": [
    {
     "name": "stdout",
     "output_type": "stream",
     "text": [
      "(1063, 1, 3000)\n",
      "(1063,)\n"
     ]
    }
   ],
   "source": [
    "print(data.shape)\n",
    "print(labels.shape)\n",
    "#data is (num events) by (num channels) by (30s x ss.info.REFERENCE_FREQ)"
   ]
  },
  {
   "cell_type": "code",
   "execution_count": 48,
   "metadata": {},
   "outputs": [],
   "source": [
    "data = data.reshape(1063, 3000, 1)"
   ]
  },
  {
   "cell_type": "code",
   "execution_count": 49,
   "metadata": {},
   "outputs": [
    {
     "name": "stdout",
     "output_type": "stream",
     "text": [
      "(1063, 3000, 1)\n",
      "(1063,)\n"
     ]
    }
   ],
   "source": [
    "print(data.shape)\n",
    "print(labels.shape)"
   ]
  },
  {
   "cell_type": "code",
   "execution_count": 50,
   "metadata": {},
   "outputs": [],
   "source": [
    "#print(np.squeeze(data).shape)"
   ]
  },
  {
   "cell_type": "code",
   "execution_count": 86,
   "metadata": {},
   "outputs": [],
   "source": [
    "np.savez('25_10579.npz', x=data,  y=labels)"
   ]
  },
  {
   "cell_type": "code",
   "execution_count": null,
   "metadata": {},
   "outputs": [],
   "source": []
  },
  {
   "cell_type": "code",
   "execution_count": null,
   "metadata": {},
   "outputs": [],
   "source": []
  },
  {
   "cell_type": "markdown",
   "metadata": {},
   "source": [
    "# Real stuff begins here"
   ]
  },
  {
   "cell_type": "code",
   "execution_count": 4,
   "metadata": {},
   "outputs": [],
   "source": [
    "#path for the kids data\n",
    "base_path = \"/Users/FernandoQin/Desktop/CMU/CMU_sleep_study/physionet.org/files/nch-sleep/0.1.0/Sleep_Data\"\n",
    "#grab the files and their ids\n",
    "files = sorted(glob(os.path.join(base_path, \"*.edf\")))\n",
    "ids = sorted(list(set([x.split(\"/\")[-1][:-4] for x in files])))"
   ]
  },
  {
   "cell_type": "code",
   "execution_count": 5,
   "metadata": {},
   "outputs": [],
   "source": [
    "#split by test and train/val subject\n",
    "train_val_ids, test_ids = train_test_split(ids, test_size=0.15, random_state=1338)\n",
    "#split by train,val subject\n",
    "train_ids, val_ids = train_test_split(train_val_ids, test_size=0.1, random_state=1337)"
   ]
  },
  {
   "cell_type": "code",
   "execution_count": 6,
   "metadata": {},
   "outputs": [
    {
     "name": "stdout",
     "output_type": "stream",
     "text": [
      "['91_15028', '16_24241', '25_10579', '7_12595', '28_15280', '22_23233', '10_22339']\n"
     ]
    }
   ],
   "source": [
    "print(train_ids)"
   ]
  },
  {
   "cell_type": "markdown",
   "metadata": {},
   "source": [
    "### SMOTE on the training dataset"
   ]
  },
  {
   "cell_type": "code",
   "execution_count": 7,
   "metadata": {},
   "outputs": [],
   "source": [
    "total_label = []\n",
    "total_data = np.arange(3000).reshape((1,3000))"
   ]
  },
  {
   "cell_type": "code",
   "execution_count": 8,
   "metadata": {},
   "outputs": [
    {
     "name": "stdout",
     "output_type": "stream",
     "text": [
      "(1, 3000)\n"
     ]
    }
   ],
   "source": [
    "print(total_data.shape)"
   ]
  },
  {
   "cell_type": "code",
   "execution_count": 9,
   "metadata": {},
   "outputs": [],
   "source": [
    "#downsample and reshape all the kids data\n",
    "for one_id in ids:\n",
    "    data, labels = ss.data.get_sleep_eeg_and_stages(one_id)\n",
    "    if one_id in train_ids:\n",
    "        #to see the label distribution of the training set\n",
    "        total_label = np.concatenate((total_label, labels), axis = 0)\n",
    "        total_data = np.concatenate((total_data, np.squeeze(data)), axis = 0)\n",
    "    #only save test and val subjects to npz files\n",
    "    else:\n",
    "        first_dim = data.shape[0]\n",
    "        data = data.reshape(first_dim, 3000, 1)\n",
    "        np.savez(one_id, x=data,  y=labels)"
   ]
  },
  {
   "cell_type": "code",
   "execution_count": 10,
   "metadata": {},
   "outputs": [
    {
     "data": {
      "text/plain": [
       "6664"
      ]
     },
     "execution_count": 10,
     "metadata": {},
     "output_type": "execute_result"
    }
   ],
   "source": [
    "len(total_label)"
   ]
  },
  {
   "cell_type": "code",
   "execution_count": 11,
   "metadata": {},
   "outputs": [],
   "source": [
    "total_data = total_data[1:,:]"
   ]
  },
  {
   "cell_type": "code",
   "execution_count": 12,
   "metadata": {},
   "outputs": [
    {
     "data": {
      "text/plain": [
       "(6664, 3000)"
      ]
     },
     "execution_count": 12,
     "metadata": {},
     "output_type": "execute_result"
    }
   ],
   "source": [
    "total_data.shape"
   ]
  },
  {
   "cell_type": "code",
   "execution_count": 13,
   "metadata": {},
   "outputs": [
    {
     "data": {
      "text/plain": [
       "(6664,)"
      ]
     },
     "execution_count": 13,
     "metadata": {},
     "output_type": "execute_result"
    }
   ],
   "source": [
    "total_label.shape"
   ]
  },
  {
   "cell_type": "markdown",
   "metadata": {},
   "source": [
    "## plot and summarize the original dist of labels "
   ]
  },
  {
   "cell_type": "code",
   "execution_count": 14,
   "metadata": {},
   "outputs": [],
   "source": [
    "from collections import Counter"
   ]
  },
  {
   "cell_type": "code",
   "execution_count": 15,
   "metadata": {},
   "outputs": [
    {
     "name": "stdout",
     "output_type": "stream",
     "text": [
      "Class=0, n=1586 (23.800%)\n",
      "Class=1, n=191 (2.866%)\n",
      "Class=2, n=2063 (30.957%)\n",
      "Class=3, n=1664 (24.970%)\n",
      "Class=4, n=1160 (17.407%)\n"
     ]
    }
   ],
   "source": [
    "counter = Counter(total_label)\n",
    "for k,v in counter.items():\n",
    "    per = v / len(total_label) * 100\n",
    "    print('Class=%d, n=%d (%.3f%%)' % (k, v, per))"
   ]
  },
  {
   "cell_type": "code",
   "execution_count": 16,
   "metadata": {},
   "outputs": [
    {
     "data": {
      "image/png": "[encoded data removed]",
      "text/plain": [
       "<Figure size 432x288 with 1 Axes>"
      ]
     },
     "metadata": {
      "needs_background": "light"
     },
     "output_type": "display_data"
    }
   ],
   "source": [
    "# plot the distribution\n",
    "plt.bar(counter.keys(), counter.values())\n",
    "plt.show()"
   ]
  },
  {
   "cell_type": "markdown",
   "metadata": {},
   "source": [
    "### use SMOTE  and RandomUnderSampler to oversample and then undersample"
   ]
  },
  {
   "cell_type": "code",
   "execution_count": 17,
   "metadata": {},
   "outputs": [],
   "source": [
    "from imblearn.over_sampling import SMOTE\n",
    "from imblearn.under_sampling import RandomUnderSampler\n",
    "from sklearn.preprocessing import LabelEncoder\n",
    "from imblearn.pipeline import Pipeline"
   ]
  },
  {
   "cell_type": "code",
   "execution_count": 18,
   "metadata": {},
   "outputs": [
    {
     "name": "stdout",
     "output_type": "stream",
     "text": [
      "Class=0, n=2063 (20.000%)\n",
      "Class=1, n=2063 (20.000%)\n",
      "Class=2, n=2063 (20.000%)\n",
      "Class=3, n=2063 (20.000%)\n",
      "Class=4, n=2063 (20.000%)\n"
     ]
    },
    {
     "data": {
      "image/png": "[encoded data removed]",
      "text/plain": [
       "<Figure size 432x288 with 1 Axes>"
      ]
     },
     "metadata": {
      "needs_background": "light"
     },
     "output_type": "display_data"
    }
   ],
   "source": [
    "# label encode the target variable\n",
    "total_label = LabelEncoder().fit_transform(total_label)\n",
    "\n",
    "# transform the dataset\n",
    "total = len(total_label)\n",
    "minor = total//10\n",
    "major = total - 4 * minor\n",
    "oversample = SMOTE()\n",
    "#strategy = {0:int(0.25*total), 1:int(0.1*total), 2:2063, 3:int(0.25*total), 4:int(0.25*total)}\n",
    "#undersample = RandomUnderSampler(sampling_strategy=strategy)\n",
    "#steps = [('o', oversample), ('u', undersample)]\n",
    "steps = [('o', oversample)]\n",
    "pipeline = Pipeline(steps=steps)\n",
    "X, y = pipeline.fit_resample(total_data, total_label)\n",
    "\n",
    "# summarize distribution\n",
    "counter = Counter(y)\n",
    "for k,v in counter.items():\n",
    "    per = v / len(y) * 100\n",
    "    print('Class=%d, n=%d (%.3f%%)' % (k, v, per))\n",
    "\n",
    "    # plot the distribution\n",
    "plt.bar(counter.keys(), counter.values())\n",
    "plt.show()"
   ]
  },
  {
   "cell_type": "code",
   "execution_count": null,
   "metadata": {},
   "outputs": [],
   "source": []
  },
  {
   "cell_type": "code",
   "execution_count": 19,
   "metadata": {},
   "outputs": [
    {
     "name": "stdout",
     "output_type": "stream",
     "text": [
      "(10315, 3000)\n"
     ]
    }
   ],
   "source": [
    "print(X.shape)"
   ]
  },
  {
   "cell_type": "code",
   "execution_count": 20,
   "metadata": {},
   "outputs": [
    {
     "name": "stdout",
     "output_type": "stream",
     "text": [
      "(10315,)\n"
     ]
    }
   ],
   "source": [
    "print(y.shape)"
   ]
  },
  {
   "cell_type": "markdown",
   "metadata": {},
   "source": [
    "### save the resampled training dataset to a local file"
   ]
  },
  {
   "cell_type": "code",
   "execution_count": 21,
   "metadata": {},
   "outputs": [
    {
     "name": "stdout",
     "output_type": "stream",
     "text": [
      "(10315, 3000, 1)\n"
     ]
    }
   ],
   "source": [
    "#reshape X\n",
    "X = X.reshape(X.shape[0], X.shape[1], 1)\n",
    "print(X.shape)"
   ]
  },
  {
   "cell_type": "code",
   "execution_count": 22,
   "metadata": {},
   "outputs": [],
   "source": [
    "#split the balanced training set\n",
    "splited_data_array = np.array_split(X, len(train_ids))\n",
    "splited_label_array = np.array_split(y, len(train_ids))"
   ]
  },
  {
   "cell_type": "code",
   "execution_count": 23,
   "metadata": {},
   "outputs": [
    {
     "name": "stdout",
     "output_type": "stream",
     "text": [
      "(1474, 3000, 1)\n",
      "(1474,)\n",
      "(1474, 3000, 1)\n",
      "(1474,)\n",
      "(1474, 3000, 1)\n",
      "(1474,)\n",
      "(1474, 3000, 1)\n",
      "(1474,)\n",
      "(1473, 3000, 1)\n",
      "(1473,)\n",
      "(1473, 3000, 1)\n",
      "(1473,)\n",
      "(1473, 3000, 1)\n",
      "(1473,)\n"
     ]
    }
   ],
   "source": [
    "#to make sure the splitting process works\n",
    "for i in range(len(train_ids)):\n",
    "    print(splited_data_array[i].shape)\n",
    "    print(splited_label_array[i].shape)"
   ]
  },
  {
   "cell_type": "code",
   "execution_count": 24,
   "metadata": {},
   "outputs": [],
   "source": [
    "for i in range(len(train_ids)):\n",
    "    np.savez('training_' + str(i), x = splited_data_array[i],  y = splited_label_array[i])"
   ]
  },
  {
   "cell_type": "markdown",
   "metadata": {},
   "source": [
    "### Grab both the val and test dicts"
   ]
  },
  {
   "cell_type": "code",
   "execution_count": 25,
   "metadata": {},
   "outputs": [],
   "source": [
    "# #grab val and test subject\n",
    "# base_path = \"/Users/FernandoQin/Desktop/CMU/CMU_sleep_study/examples\"\n",
    "\n",
    "# training_smote = sorted(glob(os.path.join(base_path, \"training_smote.npz\")))\n",
    "# train_id = sorted(list(set([x.split(\"/\")[-1][:-4] for x in training_smote])))\n",
    "\n",
    "\n",
    "# #grab the files and their ids\n",
    "# files = sorted(glob(os.path.join(base_path, \"*.npz\")))\n",
    "# ids = sorted(list(set([x.split(\"/\")[-1][:-4] for x in files])))\n",
    "# #get rid of the last balanced training set\n",
    "# ids = ids[:-1]\n",
    "\n",
    "# #get the balanced training set\n",
    "# train = [x for x in files if x.split(\"/\")[-1][:-4] in train_id]\n",
    "\n",
    "# #split by val,test subject\n",
    "# test_ids, val_ids = train_test_split(ids, test_size=0.5, random_state=1337)\n",
    "# val, test = [x for x in files if x.split(\"/\")[-1][:-4] in val_ids],\\\n",
    "#                    [x for x in files if x.split(\"/\")[-1][:-4] in test_ids]\n",
    "\n",
    "# train_dict = {k: np.load(k) for k in train}\n",
    "# test_dict = {k: np.load(k) for k in test}\n",
    "# val_dict = {k: np.load(k) for k in val}"
   ]
  },
  {
   "cell_type": "code",
   "execution_count": 26,
   "metadata": {},
   "outputs": [],
   "source": [
    "#print(train_dict)"
   ]
  },
  {
   "cell_type": "code",
   "execution_count": 27,
   "metadata": {},
   "outputs": [],
   "source": [
    "#print(val_dict)"
   ]
  },
  {
   "cell_type": "code",
   "execution_count": 28,
   "metadata": {},
   "outputs": [],
   "source": [
    "#grab val and test subject\n",
    "base_path = \"/Users/FernandoQin/Desktop/CMU/CMU_sleep_study/examples\"\n",
    "\n",
    "#grab the files and their ids\n",
    "files = sorted(glob(os.path.join(base_path, \"*.npz\")))\n",
    "ids = sorted(list(set([x.split(\"/\")[-1][:-4] for x in files])))\n",
    "\n",
    "train_ids = [x for x in ids if 'training' in x]\n",
    "test_val_ids = [x for x in ids if 'training' not in x]\n",
    "\n",
    "\n",
    "#get the balanced training set\n",
    "train = [x for x in files if x.split(\"/\")[-1][:-4] in train_ids]\n",
    "\n",
    "#split by val,test subject\n",
    "test_ids, val_ids = train_test_split(test_val_ids, test_size=0.5, random_state=1337)\n",
    "val, test = [x for x in files if x.split(\"/\")[-1][:-4] in val_ids],\\\n",
    "                   [x for x in files if x.split(\"/\")[-1][:-4] in test_ids]\n",
    "\n",
    "train_dict = {k: np.load(k) for k in train}\n",
    "test_dict = {k: np.load(k) for k in test}\n",
    "val_dict = {k: np.load(k) for k in val}"
   ]
  },
  {
   "cell_type": "code",
   "execution_count": 29,
   "metadata": {},
   "outputs": [
    {
     "name": "stdout",
     "output_type": "stream",
     "text": [
      "7\n"
     ]
    }
   ],
   "source": [
    "print(len(train_dict))"
   ]
  },
  {
   "cell_type": "code",
   "execution_count": 30,
   "metadata": {},
   "outputs": [
    {
     "name": "stdout",
     "output_type": "stream",
     "text": [
      "{'/Users/FernandoQin/Desktop/CMU/CMU_sleep_study/examples/1_4789.npz': <numpy.lib.npyio.NpzFile object at 0x12b5b7c90>}\n"
     ]
    }
   ],
   "source": [
    "print(test_dict)"
   ]
  },
  {
   "cell_type": "code",
   "execution_count": 31,
   "metadata": {},
   "outputs": [
    {
     "name": "stdout",
     "output_type": "stream",
     "text": [
      "{'/Users/FernandoQin/Desktop/CMU/CMU_sleep_study/examples/18685_16246.npz': <numpy.lib.npyio.NpzFile object at 0x12b5c8350>, '/Users/FernandoQin/Desktop/CMU/CMU_sleep_study/examples/25_18085.npz': <numpy.lib.npyio.NpzFile object at 0x12b5c8510>}\n"
     ]
    }
   ],
   "source": [
    "print(val_dict)"
   ]
  },
  {
   "cell_type": "code",
   "execution_count": null,
   "metadata": {},
   "outputs": [],
   "source": []
  }
 ],
 "metadata": {
  "kernelspec": {
   "display_name": "SLEEP",
   "language": "python",
   "name": "sleep"
  },
  "language_info": {
   "codemirror_mode": {
    "name": "ipython",
    "version": 3
   },
   "file_extension": ".py",
   "mimetype": "text/x-python",
   "name": "python",
   "nbconvert_exporter": "python",
   "pygments_lexer": "ipython3",
   "version": "3.7.10"
  }
 },
 "nbformat": 4,
 "nbformat_minor": 2
}
